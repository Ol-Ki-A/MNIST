{
  "nbformat": 4,
  "nbformat_minor": 0,
  "metadata": {
    "accelerator": "GPU",
    "colab": {
      "name": "finaly_mnist.ipynb",
      "provenance": []
    },
    "kernelspec": {
      "display_name": "Python 3",
      "name": "python3"
    },
    "language_info": {
      "name": "python"
    }
  },
  "cells": [
    {
      "cell_type": "code",
      "metadata": {
        "id": "HqjHbar5A020"
      },
      "source": [
        "class ConvNet(nn.Module):\n",
        "    def __init__(self):\n",
        "        super(ConvNet, self).__init__()\n",
        "        self.conv0 = nn.Sequential(\n",
        "          nn.Conv2d(in_channels=1, out_channels=6, kernel_size=3),\n",
        "          nn.ReLU(),\n",
        "          nn.BatchNorm2d(6)\n",
        "        )\n",
        "        self.pool0 = nn.MaxPool2d(2, 2)\n",
        "        self.conv1 = nn.Sequential(\n",
        "          nn.Conv2d(in_channels=6, out_channels=12, kernel_size=3),\n",
        "          nn.ReLU(),\n",
        "          nn.BatchNorm2d(12)\n",
        "        )\n",
        "        self.conv2 = nn.Sequential(\n",
        "          nn.Conv2d(in_channels=12, out_channels=18, kernel_size=3),\n",
        "          nn.ReLU(),\n",
        "          nn.BatchNorm2d(18)\n",
        "        )\n",
        "        self.conv3 = nn.Sequential(\n",
        "          nn.Conv2d(in_channels=18, out_channels=24, kernel_size=3),\n",
        "          nn.ReLU(),\n",
        "          nn.BatchNorm2d(24)\n",
        "        )\n",
        "        self.pool1 = nn.MaxPool2d(2, 2)\n",
        "        self.conv4 = nn.Sequential(\n",
        "          nn.Conv2d(in_channels=24, out_channels=32, kernel_size=3),\n",
        "          nn.ReLU(),\n",
        "          nn.BatchNorm2d(32)\n",
        "        )\n",
        "\n",
        "        self.fc1 = nn.Linear(32, 10)\n",
        "        \n",
        "\n",
        "    def forward(self, x):\n",
        "        layer0 = self.pool0(self.conv0(x))\n",
        "        layer1 = self.conv1(layer0)\n",
        "        layer2 = self.conv2(layer1)\n",
        "        layer3 = self.pool1(self.conv3(layer2))\n",
        "        layer4 = self.conv4(layer3)\n",
        "        layer4 = layer4.view(layer4.size(0), -1)\n",
        "        layer4 = F.relu(self.fc1(layer4))\n",
        "        return layer4"
      ],
      "execution_count": null,
      "outputs": []
    },
    {
      "cell_type": "code",
      "metadata": {
        "colab": {
          "base_uri": "https://localhost:8080/"
        },
        "id": "ZQiSKKLUlGyX",
        "outputId": "03a8a126-ef0d-4302-8dcf-db8225513400"
      },
      "source": [
        "Net = ConvNet()\n",
        "Net.to(device)"
      ],
      "execution_count": null,
      "outputs": [
        {
          "output_type": "execute_result",
          "data": {
            "text/plain": [
              "ConvNet(\n",
              "  (conv0): Sequential(\n",
              "    (0): Conv2d(1, 6, kernel_size=(3, 3), stride=(1, 1))\n",
              "    (1): ReLU()\n",
              "    (2): BatchNorm2d(6, eps=1e-05, momentum=0.1, affine=True, track_running_stats=True)\n",
              "  )\n",
              "  (pool0): MaxPool2d(kernel_size=2, stride=2, padding=0, dilation=1, ceil_mode=False)\n",
              "  (conv1): Sequential(\n",
              "    (0): Conv2d(6, 12, kernel_size=(3, 3), stride=(1, 1))\n",
              "    (1): ReLU()\n",
              "    (2): BatchNorm2d(12, eps=1e-05, momentum=0.1, affine=True, track_running_stats=True)\n",
              "  )\n",
              "  (conv2): Sequential(\n",
              "    (0): Conv2d(12, 18, kernel_size=(3, 3), stride=(1, 1))\n",
              "    (1): ReLU()\n",
              "    (2): BatchNorm2d(18, eps=1e-05, momentum=0.1, affine=True, track_running_stats=True)\n",
              "  )\n",
              "  (conv3): Sequential(\n",
              "    (0): Conv2d(18, 24, kernel_size=(3, 3), stride=(1, 1))\n",
              "    (1): ReLU()\n",
              "    (2): BatchNorm2d(24, eps=1e-05, momentum=0.1, affine=True, track_running_stats=True)\n",
              "  )\n",
              "  (pool1): MaxPool2d(kernel_size=2, stride=2, padding=0, dilation=1, ceil_mode=False)\n",
              "  (conv4): Sequential(\n",
              "    (0): Conv2d(24, 32, kernel_size=(3, 3), stride=(1, 1))\n",
              "    (1): ReLU()\n",
              "    (2): BatchNorm2d(32, eps=1e-05, momentum=0.1, affine=True, track_running_stats=True)\n",
              "  )\n",
              "  (fc1): Linear(in_features=32, out_features=10, bias=True)\n",
              ")"
            ]
          },
          "metadata": {},
          "execution_count": 10
        }
      ]
    }
  ]
}