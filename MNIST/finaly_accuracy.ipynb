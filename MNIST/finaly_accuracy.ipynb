{
  "nbformat": 4,
  "nbformat_minor": 0,
  "metadata": {
    "accelerator": "GPU",
    "colab": {
      "name": "finaly_mnist.ipynb",
      "provenance": []
    },
    "kernelspec": {
      "display_name": "Python 3",
      "name": "python3"
    },
    "language_info": {
      "name": "python"
    }
  },
  "cells": [
    {
      "cell_type": "code",
      "metadata": {
        "id": "kZacYGKYsW79",
        "colab": {
          "base_uri": "https://localhost:8080/"
        },
        "outputId": "33948203-e9f9-4efc-b55c-31a4fcaf1692"
      },
      "source": [
        "accuracy = 0\n",
        "batches = 0\n",
        "Net.eval()\n",
        "with torch.no_grad():\n",
        "  for batch in test_loader:\n",
        "    x_batch, y_batch = batch\n",
        "    x_batch = x_batch.to(device)\n",
        "    y_batch = y_batch.to(device)\n",
        "    tmp, predict = torch.max(Net(x_batch), 1)\n",
        "    for i in range(predict.shape[0]):\n",
        "      batches += 1\n",
        "      accuracy += int(predict[i].detach() == y_batch[i].detach()) \n",
        "print('accuracy_test_finale', (accuracy/batches)*100)\n",
        "  "
      ],
      "execution_count": null,
      "outputs": [
        {
          "output_type": "stream",
          "name": "stdout",
          "text": [
            "accuracy_test_finale 99.11999999999999\n"
          ]
        }
      ]
    }
  ]
}