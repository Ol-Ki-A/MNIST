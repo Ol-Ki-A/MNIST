{
  "nbformat": 4,
  "nbformat_minor": 0,
  "metadata": {
    "accelerator": "GPU",
    "colab": {
      "name": "project_mnist.ipynb",
      "provenance": []
    },
    "kernelspec": {
      "display_name": "Python 3",
      "name": "python3"
    },
    "language_info": {
      "name": "python"
    }
  },
  "cells": [
    {
      "cell_type": "code",
      "metadata": {
        "colab": {
          "base_uri": "https://localhost:8080/",
          "height": 283
        },
        "id": "wq3Z5FQ4kWgM",
        "outputId": "7273e1df-4877-48dc-abe2-ebc00acec76c"
      },
      "source": [
        "numpy_img = save_mistake[0][0].cpu()\n",
        "numpy_img.shape\n",
        "plt.imshow(numpy_img[0].numpy().squeeze())\n",
        "print('target =', save_mistake[0][2].cpu().numpy(), ', but predicted:', save_mistake[0][1].cpu().numpy())"
      ],
      "execution_count": 111,
      "outputs": [
        {
          "output_type": "stream",
          "name": "stdout",
          "text": [
            "target = 9 , but predicted: 5\n"
          ]
        },
        {
          "output_type": "display_data",
          "data": {
            "image/png": "[encoded data removed]",
            "text/plain": [
              "<Figure size 432x288 with 1 Axes>"
            ]
          },
          "metadata": {
            "needs_background": "light"
          }
        }
      ]
    },
    {
      "cell_type": "code",
      "metadata": {
        "colab": {
          "base_uri": "https://localhost:8080/",
          "height": 283
        },
        "id": "bt1LxrlO1Ahg",
        "outputId": "0c93db6d-9c37-4fa9-ef59-3f180e6db99b"
      },
      "source": [
        "numpy_img = save_mistake[2][0].cpu()\n",
        "numpy_img.shape\n",
        "plt.imshow(numpy_img[0].numpy().squeeze())\n",
        "print('target =', save_mistake[2][2].cpu().numpy(), ', but predicted:', save_mistake[2][1].cpu().numpy())"
      ],
      "execution_count": 113,
      "outputs": [
        {
          "output_type": "stream",
          "name": "stdout",
          "text": [
            "target = 9 , but predicted: 8\n"
          ]
        },
        {
          "output_type": "display_data",
          "data": {
            "image/png": "[encoded data removed]",
            "text/plain": [
              "<Figure size 432x288 with 1 Axes>"
            ]
          },
          "metadata": {
            "needs_background": "light"
          }
        }
      ]
    },
    {
      "cell_type": "code",
      "metadata": {
        "colab": {
          "base_uri": "https://localhost:8080/",
          "height": 283
        },
        "id": "9MUk0o7J1Iok",
        "outputId": "605463aa-5dbb-49b0-c06e-83f246848cb3"
      },
      "source": [
        "numpy_img = save_mistake[3][0].cpu()\n",
        "numpy_img.shape\n",
        "plt.imshow(numpy_img[0].numpy().squeeze())\n",
        "print('target =', save_mistake[3][2].cpu().numpy(), ', but predicted:', save_mistake[3][1].cpu().numpy())"
      ],
      "execution_count": 114,
      "outputs": [
        {
          "output_type": "stream",
          "name": "stdout",
          "text": [
            "target = 6 , but predicted: 0\n"
          ]
        },
        {
          "output_type": "display_data",
          "data": {
            "image/png": "[encoded data removed]",
            "text/plain": [
              "<Figure size 432x288 with 1 Axes>"
            ]
          },
          "metadata": {
            "needs_background": "light"
          }
        }
      ]
    },
    {
      "cell_type": "code",
      "metadata": {
        "colab": {
          "base_uri": "https://localhost:8080/",
          "height": 283
        },
        "id": "f2V3FE381PUl",
        "outputId": "1e6c349c-2b65-4f18-f763-13aa81f6bb01"
      },
      "source": [
        "numpy_img = save_mistake[4][0].cpu()\n",
        "numpy_img.shape\n",
        "plt.imshow(numpy_img[0].numpy().squeeze())\n",
        "print('target =', save_mistake[4][2].cpu().numpy(), ', but predicted:', save_mistake[4][1].cpu().numpy())"
      ],
      "execution_count": 115,
      "outputs": [
        {
          "output_type": "stream",
          "name": "stdout",
          "text": [
            "target = 0 , but predicted: 6\n"
          ]
        },
        {
          "output_type": "display_data",
          "data": {
            "image/png": "[encoded data removed]",
            "text/plain": [
              "<Figure size 432x288 with 1 Axes>"
            ]
          },
          "metadata": {
            "needs_background": "light"
          }
        }
      ]
    }
  ]
}