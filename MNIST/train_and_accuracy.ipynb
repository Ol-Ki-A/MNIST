{
  "nbformat": 4,
  "nbformat_minor": 0,
  "metadata": {
    "accelerator": "GPU",
    "colab": {
      "name": "finaly_mnist.ipynb",
      "provenance": []
    },
    "kernelspec": {
      "display_name": "Python 3",
      "name": "python3"
    },
    "language_info": {
      "name": "python"
    }
  },
  "cells": [
    {
      "cell_type": "code",
      "metadata": {
        "colab": {
          "base_uri": "https://localhost:8080/"
        },
        "id": "_FoJNOTjif3I",
        "outputId": "c168394f-f3f7-4574-a845-85b747af76b1"
      },
      "source": [
        "losses = 0\n",
        "losses_plt = []\n",
        "accuracy_plt = []\n",
        "epoh = 4\n",
        "for epoh in range(epoh):\n",
        "  for count_batch, batch in enumerate(train_loader):\n",
        "    Net.train()\n",
        "    x_batch, y_batch = batch\n",
        "    x_batch = x_batch.to(device)\n",
        "    y_batch = y_batch.to(device)\n",
        "    opt.zero_grad()\n",
        "    pred_target = Net(x_batch)\n",
        "    loss = CE_loss(pred_target, y_batch)\n",
        "    loss.backward()\n",
        "    opt.step()\n",
        "    losses += loss.item()\n",
        "  losses_plt.append(loss.item()) \n",
        "  print(f'loss on {epoh} = {losses / len(train_loader)}')\n",
        "  losses = 0\n",
        "  accuracy = 0\n",
        "  batches = 0\n",
        "  Net.eval()\n",
        "  with torch.no_grad():\n",
        "    for batch in test_loader:\n",
        "      x_batch, y_batch = batch\n",
        "      x_batch = x_batch.to(device)\n",
        "      y_batch = y_batch.to(device)\n",
        "      tmp, predict = torch.max(Net(x_batch), 1)\n",
        "      for i in range(predict.shape[0]):\n",
        "        batches += 1\n",
        "        accuracy += int(predict[i].detach() == y_batch[i].detach())\n",
        "  accuracy_plt.append(accuracy/batches)           \n",
        "  print(f'accuracy_test on {epoh} = {accuracy/batches}')"
      ]
        },
        {
          "output_type": "stream",
          "name": "stdout",
          "text": [
            "loss on 0 = 0.19477413295050308\n",
            "accuracy_test on 0 = 0.9846\n",
            "loss on 1 = 0.06594749246374704\n",
            "accuracy_test on 1 = 0.9862\n",
            "loss on 2 = 0.05138742899278683\n",
            "accuracy_test on 2 = 0.9893\n",
            "loss on 3 = 0.043036967280393586\n",
            "accuracy_test on 3 = 0.9912\n"
          ]
        }
      ]
    }
  ]
}
